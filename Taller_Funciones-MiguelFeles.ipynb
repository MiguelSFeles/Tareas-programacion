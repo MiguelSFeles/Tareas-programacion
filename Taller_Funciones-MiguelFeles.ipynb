{
 "cells": [
  {
   "cell_type": "markdown",
   "metadata": {},
   "source": [
    "**Cree las siguientes funciones, con su debida documentación:**\n",
    "\n",
    "1. Cree una función que regrese como resultado el nombre de un restaurante y su NIT en una cadena de caracteres, pueden ser ficticios.\n",
    "2. Si en dicho restaurante cada persona consume en promedio 50.000 , haga una función que permira calcular el valor de la cuenta, en promedio, dado el número de comensales.\n",
    "3. En el total calculado en el punto anterior se incluye el impuesto al consumo, cree una función que le permita conocer el valor que debería pagar sin dicho impuesto el cual asciende al $8\\%$.\n",
    "4. Una función que tenga como argumentos de entrada nombre de una persona y cantidad de comensales, la función debe tener como respuesta un \"recibo\" en el que aparezca el nombre del restaurante, su NIT, el nombre del cliente, el valor de la factura sin impuestos y con impuestos (sug: emplee como base las funciones creadas anteriormente).\n",
    "5. Una función que permita calcular el máximo entre dos números.\n",
    "6. Una función que ordene de menor a mayor tres números.\n",
    "7. Una función que dadas 5 notas de un estudiante, le permitan calcular la definitiva de la materia (nota 1: 10%, nota 2: 20%, nota 3: 30%, nota 4: 15%, nota 5: 25%) junto a un mensaje el cual resuma el desempeño del estudiante en el curso. (*Sug*: utilice los intervalos $0\\leq x<1,\\ 1\\leq x<2,\\ 2\\leq x<3,\\ 3\\leq x<4, 4\\leq x<4.5,\\ 4.5\\leq x\\leq5 $)"
   ]
  },
  {
   "cell_type": "markdown",
   "metadata": {},
   "source": [
    "# Solución Taller\n",
    "\n",
    "# Miguel Santiago Feles Gómez - Taller Funciones \n",
    "    \n",
    "## Primer ejercicio    \n",
    "    "
   ]
  },
  {
   "cell_type": "markdown",
   "metadata": {},
   "source": [
    "# 1"
   ]
  },
  {
   "cell_type": "code",
   "execution_count": 13,
   "metadata": {},
   "outputs": [],
   "source": [
    "def restaurante(nombre, NIT):\n",
    "    nombre = str(nombre)\n",
    "    NIT = \"Nit: \" + str(NIT)\n",
    "    return(nombre, NIT)"
   ]
  },
  {
   "cell_type": "code",
   "execution_count": 14,
   "metadata": {},
   "outputs": [
    {
     "data": {
      "text/plain": [
       "('La Mantecada ', 'Nit: 1231321')"
      ]
     },
     "execution_count": 14,
     "metadata": {},
     "output_type": "execute_result"
    }
   ],
   "source": [
    "restaurante(\"La Mantecada \", 1231321)"
   ]
  },
  {
   "cell_type": "markdown",
   "metadata": {},
   "source": [
    "# 2"
   ]
  },
  {
   "cell_type": "code",
   "execution_count": 15,
   "metadata": {},
   "outputs": [],
   "source": [
    "def valor_cuenta(personas):\n",
    "    valor_cuenta = personas * 50000\n",
    "    return valor_cuenta"
   ]
  },
  {
   "cell_type": "markdown",
   "metadata": {},
   "source": [
    "# 3"
   ]
  },
  {
   "cell_type": "code",
   "execution_count": 21,
   "metadata": {},
   "outputs": [],
   "source": [
    "def valor_neto(personas):\n",
    "    valor_neto = (valor_cuenta(personas)*1)/1.08\n",
    "    return valor_neto"
   ]
  },
  {
   "cell_type": "markdown",
   "metadata": {},
   "source": [
    "# 4"
   ]
  },
  {
   "cell_type": "code",
   "execution_count": 27,
   "metadata": {},
   "outputs": [],
   "source": [
    "def recibo(cliente, personas):\n",
    "    print(f\"\"\" Recibo \\n {restaurante(\"La Mantecada \", 1231321)} \\n Buenas tardes {cliente} el valor de su comida es de {valor_cuenta(personas)}$ \\n sin impuestos es de {valor_neto(personas)}$ \"\"\")"
   ]
  },
  {
   "cell_type": "code",
   "execution_count": 28,
   "metadata": {},
   "outputs": [
    {
     "name": "stdout",
     "output_type": "stream",
     "text": [
      " Recibo \n",
      " ('La Mantecada ', 'Nit: 1231321') \n",
      " Buenas tardes Dorián el valor de su comida es de 200000$ \n",
      " sin impuestos es de 185185.18518518517$ \n"
     ]
    }
   ],
   "source": [
    "recibo(\"Dorián\", 4)"
   ]
  },
  {
   "cell_type": "markdown",
   "metadata": {},
   "source": [
    "## Segundo ejercicio"
   ]
  },
  {
   "cell_type": "markdown",
   "metadata": {},
   "source": [
    "# 5"
   ]
  },
  {
   "cell_type": "code",
   "execution_count": 38,
   "metadata": {},
   "outputs": [],
   "source": [
    "def maximo(a,b):\n",
    "    if a > b:\n",
    "        return a\n",
    "    if a < b:\n",
    "        return b"
   ]
  },
  {
   "cell_type": "code",
   "execution_count": 39,
   "metadata": {},
   "outputs": [
    {
     "name": "stdout",
     "output_type": "stream",
     "text": [
      "4\n",
      "4\n"
     ]
    }
   ],
   "source": [
    "print(maximo(4, 3))\n",
    "print(maximo(3,4))"
   ]
  },
  {
   "cell_type": "markdown",
   "metadata": {},
   "source": [
    "# 6"
   ]
  },
  {
   "cell_type": "code",
   "execution_count": 27,
   "metadata": {},
   "outputs": [],
   "source": [
    "def orden(a,b,c):\n",
    "    if a < b:\n",
    "        if a < c:\n",
    "            if b < c:\n",
    "                print (c,b,a)\n",
    "            if b > c:\n",
    "                print(b,c,a)\n",
    "        if a > c:\n",
    "            print(b,a,c)            \n",
    "            \n",
    "    if a > b:\n",
    "        if a > c:\n",
    "            if b > c:\n",
    "                print(a,b,c)\n",
    "            if b < c:\n",
    "                print(a,c,b)\n",
    "        if a < c:\n",
    "            print(c,a,b)\n"
   ]
  },
  {
   "cell_type": "code",
   "execution_count": 36,
   "metadata": {},
   "outputs": [
    {
     "name": "stdout",
     "output_type": "stream",
     "text": [
      "-----\n",
      "10 5 3\n",
      "10 5 3\n",
      "-----\n",
      "10 4 2\n",
      "10 4 2\n",
      "-----\n",
      "8 3 1\n",
      "8 3 1\n"
     ]
    }
   ],
   "source": [
    "print(\"-----\")\n",
    "orden(3,5,10)\n",
    "orden(5,3,10)\n",
    "print(\"-----\")\n",
    "orden(10,2,4)\n",
    "orden(10,4,2)\n",
    "print(\"-----\")\n",
    "orden(3,8,1)\n",
    "orden(1,8,3)\n"
   ]
  },
  {
   "cell_type": "markdown",
   "metadata": {},
   "source": [
    "# 7"
   ]
  },
  {
   "cell_type": "code",
   "execution_count": 7,
   "metadata": {},
   "outputs": [
    {
     "name": "stdout",
     "output_type": "stream",
     "text": [
      "Ingrese el nombre del estudiante: Pedro el Escamoso\n",
      "Ingrese la nota del 10%: 3\n",
      "Ingrese la nota del 20%: 4\n",
      "Ingrese la nota del 30%: 2\n",
      "Ingrese la nota del 15%: 5\n",
      "Ingreses la nota del 25%: 3\n",
      "3.2\n",
      "Su desempeño fue bueno\n"
     ]
    }
   ],
   "source": [
    "nombre = input(\"Ingrese el nombre del estudiante: \")\n",
    "nota10 = float(input(\"Ingrese la nota del 10%: \"))\n",
    "nota20 = float(input(\"Ingrese la nota del 20%: \"))\n",
    "nota30 = float(input(\"Ingrese la nota del 30%: \"))\n",
    "nota15 = float(input(\"Ingrese la nota del 15%: \"))\n",
    "nota25 = float(input(\"Ingreses la nota del 25%: \"))\n",
    "\n",
    "nota_final = (nota10*0.1) + (nota20 * 0.2) + (nota30*0.3) +(nota15 * 0.15) + (nota25*0.25)\n",
    "print(nota_final)\n",
    "if nota_final >= 0:\n",
    "    if nota_final < 1:\n",
    "        print(\"Su desempeño fue muy bajo\")\n",
    "    if nota_final >= 1:\n",
    "        if nota_final < 2:\n",
    "            print(\"Su desempeño fue bajo\")\n",
    "    if nota_final >= 2:\n",
    "        if nota_final < 3:\n",
    "            print(\"Su desempeño fue medio\")\n",
    "    if nota_final >= 3:\n",
    "        if nota_final < 4:\n",
    "            print(\"Su desempeño fue bueno\")\n",
    "    if nota_final >= 4:\n",
    "        if nota_final < 4.5:\n",
    "            print(\"Su desempeño fue alto\")\n",
    "    if nota_final >= 4.5:\n",
    "        if nota_final <= 5:\n",
    "            print(\"Su desempeño fue exitoso\")"
   ]
  },
  {
   "cell_type": "code",
   "execution_count": null,
   "metadata": {},
   "outputs": [],
   "source": []
  }
 ],
 "metadata": {
  "kernelspec": {
   "display_name": "Python 3",
   "language": "python",
   "name": "python3"
  },
  "language_info": {
   "codemirror_mode": {
    "name": "ipython",
    "version": 3
   },
   "file_extension": ".py",
   "mimetype": "text/x-python",
   "name": "python",
   "nbconvert_exporter": "python",
   "pygments_lexer": "ipython3",
   "version": "3.7.10"
  }
 },
 "nbformat": 4,
 "nbformat_minor": 5
}
