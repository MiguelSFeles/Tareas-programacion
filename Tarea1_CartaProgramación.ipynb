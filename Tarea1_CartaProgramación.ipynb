{
  "cells": [
    {
      "cell_type": "code",
      "source": [
        "#Miguel Santiago Feles Gómez  Tarea de Programación"
      ],
      "metadata": {
        "id": "2jLzRZiqpZuA"
      },
      "execution_count": null,
      "outputs": []
    },
    {
      "cell_type": "code",
      "source": [
        ""
      ],
      "metadata": {
        "id": "a-G-ebKWpl7-"
      },
      "execution_count": null,
      "outputs": []
    },
    {
      "cell_type": "code",
      "source": [
        "nombre = input(\"Cuál es tu nombre: \")"
      ],
      "metadata": {
        "colab": {
          "base_uri": "https://localhost:8080/"
        },
        "id": "nAI55oqCps48",
        "outputId": "4d17cf89-a97e-455a-9f18-db06b21c2009"
      },
      "execution_count": null,
      "outputs": [
        {
          "name": "stdout",
          "output_type": "stream",
          "text": [
            "Cuál es tu nombre: Miguel Feles\n"
          ]
        }
      ]
    },
    {
      "cell_type": "code",
      "source": [
        "Edad_1_año = input(\"Cuál va a ser tu edad en un año: \")"
      ],
      "metadata": {
        "colab": {
          "base_uri": "https://localhost:8080/"
        },
        "id": "f1vug1n_p_XF",
        "outputId": "d2ae1bfa-2f39-4e89-81c6-ee30c8523262"
      },
      "execution_count": null,
      "outputs": [
        {
          "name": "stdout",
          "output_type": "stream",
          "text": [
            "Cuál va a ser tu edad en un año: 19\n"
          ]
        }
      ]
    },
    {
      "cell_type": "code",
      "source": [
        "Salario_5_años = input(\"Cuánto esperas ganar en 5 años: \")"
      ],
      "metadata": {
        "colab": {
          "base_uri": "https://localhost:8080/"
        },
        "id": "qOyrPW7BqWoR",
        "outputId": "c75e8903-af80-4394-94eb-50fa48ad22ab"
      },
      "execution_count": null,
      "outputs": [
        {
          "name": "stdout",
          "output_type": "stream",
          "text": [
            "Cuánto esperas ganar en 5 años: 6000000\n"
          ]
        }
      ]
    },
    {
      "cell_type": "code",
      "source": [
        "Edad_5_años = input(\"Cuál va a ser tu edad en 5 años: \")"
      ],
      "metadata": {
        "colab": {
          "base_uri": "https://localhost:8080/"
        },
        "id": "0bDmZRYtyqh1",
        "outputId": "5bd08da0-80c4-4816-a1ea-45ea6c239b2d"
      },
      "execution_count": null,
      "outputs": [
        {
          "name": "stdout",
          "output_type": "stream",
          "text": [
            "Cuál va a ser tu edad en 5 años: 23\n"
          ]
        }
      ]
    },
    {
      "cell_type": "markdown",
      "source": [
        "**Carta 1 - Yo dentro de 1 año** 💞\n"
      ],
      "metadata": {
        "id": "4bG0Sgj9po4d"
      }
    },
    {
      "cell_type": "code",
      "source": [
        "print(\"14 de febrero de 2022\".rjust(180, \" \"))\n",
        "print(\"Bogotá D.C. - Colombia\".rjust(180, \" \"))\n",
        "\n",
        "print(f\"\"\" Hola {nombre}, ¿Cómo te trata la vida? espero que hayas tenido un año genial. \\n Qué tal estuvieron los dos primeros semestres, deseo que los hayas aprobado y sobretodo hayas aprendido bastante que es lo más importante, Hablame sobre la materia que más \\n te gusto y acerca de la que se te dificultó más. De momento me ha encantado matemáticas discretas y se me han dificultado algunas cosas en cálculo pero vamos bien.\"\"\")\n",
        "print(\" En el mes que llevo de carrera me ha parecido muy interesante y he podido notar cómo esta ciencia constantemente está evolucionando y necesitamos estar aprendiendo cosas nuevas siempre. \\n Adicionalmente, me ha llamado la atención el gran campo de aplicación y la magnitud de los datos.\")\n",
        "print(f\"\"\" En el 2023 ya tendrás  {Edad_1_año} años así que ya seguramente ya aprendiste cosas nuevas y habrás mejorado en muchos aspectos. Actualmente he buscado mejorar en varios asuntos así que espero\\n lo haya logrado para el otro año. \\n\\n \"\"\")\n",
        "\n",
        "print(\"En fin, fue un placer escrirte y deseo que sigas éxitosamente tus estudios y puedas aprender lo más posible, además que disfrutes tu vida día a día.\")\n",
        "print(f\"\"\"\\nCon cariño, \\n{nombre}\"\"\") "
      ],
      "metadata": {
        "colab": {
          "base_uri": "https://localhost:8080/"
        },
        "id": "lYhNhiMdqkCc",
        "outputId": "4db61a17-af37-4f47-8520-b5b90692eb4c"
      },
      "execution_count": null,
      "outputs": [
        {
          "output_type": "stream",
          "name": "stdout",
          "text": [
            "                                                                                                                                                               14 de febrero de 2022\n",
            "                                                                                                                                                              Bogotá D.C. - Colombia\n",
            " Hola Miguel Feles, ¿Cómo te trata la vida? espero que hayas tenido un año genial. \n",
            " Qué tal estuvieron los dos primeros semestres, deseo que los hayas aprobado y sobretodo hayas aprendido bastante que es lo más importante, Hablame sobre la materia que más \n",
            " te gusto y acerca de la que se te dificultó más. De momento me ha encantado matemáticas discretas y se me han dificultado algunas cosas en cálculo pero vamos bien.\n",
            " En el mes que llevo de carrera me ha parecido muy interesante y he podido notar cómo esta ciencia constantemente está evolucionando y necesitamos estar aprendiendo cosas nuevas siempre. \n",
            " Adicionalmente, me ha llamado la atención el gran campo de aplicación y la magnitud de los datos.\n",
            " En el 2023 ya tendrás  19 años así que ya seguramente ya aprendiste cosas nuevas y habrás mejorado en muchos aspectos. Actualmente he buscado mejorar en varios asuntos así que espero\n",
            " lo haya logrado para el otro año. \n",
            "\n",
            " \n",
            "En fin, fue un placer escrirte y deseo que sigas éxitosamente tus estudios y puedas aprender lo más posible, además que disfrutes tu vida día a día.\n",
            "\n",
            "Con cariño, \n",
            "Miguel Feles\n"
          ]
        }
      ]
    },
    {
      "cell_type": "markdown",
      "source": [
        "**Carta yo dentro de 5 años** ✌\n"
      ],
      "metadata": {
        "id": "Y3gFeDNhve_d"
      }
    },
    {
      "cell_type": "code",
      "source": [
        "print(\"14 de febrero de 2026\".rjust(180, \" \"))\n",
        "print(\"Bogotá D.C. - Colombia\".rjust(180, \" \"))\n",
        "\n",
        "print(f\"\"\"Hola {nombre}, Ha pasado tanto tiempo ¿Cómo la pasaste estos años?. \\nYa debes ser un científico de datos, genial. \\nMe imagino que fue un proceso un poco duro pero sobretodo divertido así que habláme de cómo fue esa vida universitaria. \\n\"\"\")\n",
        "print(\"Sé que la Ciencia de Datos tiene mucho futuro y cada vez será más importante para tomar decisiones acertadas y de calidad. Entonces qué tal te ha parecido el desarollo\\ny progreso de esta carrera durante los 5 años.\")\n",
        "print(f\"\"\"Bueno, ya es 2026 entonces confío en estar ganado un sueldo apróximado a {Salario_5_años}$COP mensuales, que me parece una buena suma para iniciar y para tener {Edad_5_años} años es excelente. \\n\\n\"\"\")\n",
        "\n",
        "print(\"Me ha encantado comunicarme contigo y es sorprendente todo lo que has logrado, te deseo los mejores éxitos además que puedas estár sereno y disfrutes tu vida valorando cada día. \")\n",
        "print(f\"\"\"\\n\\nCon amor, {nombre}\"\"\")"
      ],
      "metadata": {
        "colab": {
          "base_uri": "https://localhost:8080/"
        },
        "id": "HgUopmXBtbuT",
        "outputId": "65c0c1fd-7a36-470e-c3c0-8e47e4951890"
      },
      "execution_count": null,
      "outputs": [
        {
          "output_type": "stream",
          "name": "stdout",
          "text": [
            "                                                                                                                                                               14 de febrero de 2026\n",
            "                                                                                                                                                              Bogotá D.C. - Colombia\n",
            "Hola Miguel Feles, Ha pasado tanto tiempo ¿Cómo la pasaste estos años?. \n",
            "Ya debes ser un científico de datos, genial. \n",
            "Me imagino que fue un proceso un poco duro pero sobretodo divertido así que habláme de cómo fue esa vida universitaria. \n",
            "\n",
            "Sé que la Ciencia de Datos tiene mucho futuro y cada vez será más importante para tomar decisiones acertadas y de calidad. Entonces qué tal te ha parecido el desarollo\n",
            "y progreso de esta carrera durante los 5 años.\n",
            "Bueno, ya es 2026 entonces confío en estar ganado un sueldo apróximado a 6000000$COP mensuales, que me parece una buena suma para iniciar y para tener 23 años es excelente. \n",
            "\n",
            "\n",
            "Me ha encantado comunicarme contigo y es sorprendente todo lo que has logrado, te deseo los mejores éxitos además que puedas estár sereno y disfrutes tu vida valorando cada día. \n",
            "\n",
            "\n",
            "Con amor, Miguel Feles\n"
          ]
        }
      ]
    },
    {
      "cell_type": "code",
      "source": [
        ""
      ],
      "metadata": {
        "id": "clVPEH_1wSL7"
      },
      "execution_count": null,
      "outputs": []
    }
  ],
  "metadata": {
    "colab": {
      "collapsed_sections": [],
      "name": "Copia de Te damos la bienvenida a Colaboratory",
      "provenance": []
    },
    "kernelspec": {
      "display_name": "Python 3",
      "name": "python3"
    }
  },
  "nbformat": 4,
  "nbformat_minor": 0
}