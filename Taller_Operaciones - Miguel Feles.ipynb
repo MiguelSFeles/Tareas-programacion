{
 "cells": [
  {
   "cell_type": "markdown",
   "metadata": {},
   "source": [
    "# Miguel Santiago Feles Gómez - Taller Programación operaciones"
   ]
  },
  {
   "cell_type": "code",
   "execution_count": 2,
   "metadata": {},
   "outputs": [
    {
     "data": {
      "text/plain": [
       "6"
      ]
     },
     "execution_count": 2,
     "metadata": {},
     "output_type": "execute_result"
    }
   ],
   "source": [
    "def MCD(x,y):\n",
    "    mcd = int\n",
    "    if x > y:\n",
    "        menor = y\n",
    "    else: \n",
    "        menor = x\n",
    "    for i in range(1, menor+1):\n",
    "        if((x%i == 0) and (y%i == 0)):\n",
    "            mcd = i\n",
    "    return mcd\n",
    "MCD(30,36)"
   ]
  },
  {
   "cell_type": "code",
   "execution_count": 24,
   "metadata": {},
   "outputs": [
    {
     "name": "stdout",
     "output_type": "stream",
     "text": [
      "8/13\n",
      "2\n"
     ]
    }
   ],
   "source": [
    "def simp(a,b):\n",
    "    c = MCD(a,b)\n",
    "    g = str(int(a/c))\n",
    "    h = str(int(b/c))\n",
    "    \n",
    "    if h == '1':\n",
    "        return ('{0}'.format(g))\n",
    "    \n",
    "    return ('{0}/{1}'.format(g,h))\n",
    "print(simp(16,26))\n",
    "print(simp(20,10))"
   ]
  },
  {
   "cell_type": "code",
   "execution_count": 15,
   "metadata": {},
   "outputs": [],
   "source": [
    "def suma(n1, d1, n2, d2):\n",
    "    adición = ((n1*d2) + (d1*n2))/(d1*d2)\n",
    "    suma_n = ((n1*d2) + (d1*n2))\n",
    "    suma_d = (d1*d2)\n",
    "    return simp(suma_n, suma_d) + \" = \" + str(adición)"
   ]
  },
  {
   "cell_type": "code",
   "execution_count": 16,
   "metadata": {
    "scrolled": true
   },
   "outputs": [
    {
     "name": "stdout",
     "output_type": "stream",
     "text": [
      "11/3 = 3.6666666666666665\n"
     ]
    }
   ],
   "source": [
    "print(suma(5,3,4,2))"
   ]
  },
  {
   "cell_type": "code",
   "execution_count": 17,
   "metadata": {},
   "outputs": [],
   "source": [
    "def resta(n1, d1, n2, d2):\n",
    "    sustracción = ((n1*d2) - (d1*n2))/(d1*d2)\n",
    "    resta_n = abs(((n1*d2) - (d1*n2)))\n",
    "    resta_d = (d1*d2)\n",
    "    \n",
    "    return simp(resta_n, resta_d) + \" = \" + str(sustracción)"
   ]
  },
  {
   "cell_type": "code",
   "execution_count": 18,
   "metadata": {},
   "outputs": [
    {
     "name": "stdout",
     "output_type": "stream",
     "text": [
      "1/2 = 0.5\n"
     ]
    }
   ],
   "source": [
    "print(resta(5,2,4,2))"
   ]
  },
  {
   "cell_type": "code",
   "execution_count": 19,
   "metadata": {},
   "outputs": [],
   "source": [
    "def multiplicación(n1,d1,n2,d2):\n",
    "    \n",
    "    \n",
    "    producto = (n1*n2)/(d1*d2)\n",
    "    mulp_n = (n1*n2)\n",
    "    mulp_d = (d1*d2)\n",
    "    return simp(mulp_n, mulp_d) + \" = \" + str(producto)"
   ]
  },
  {
   "cell_type": "code",
   "execution_count": 20,
   "metadata": {},
   "outputs": [
    {
     "name": "stdout",
     "output_type": "stream",
     "text": [
      "10/3 = 3.3333333333333335\n"
     ]
    }
   ],
   "source": [
    "print(multiplicación(5,3,4,2))"
   ]
  },
  {
   "cell_type": "code",
   "execution_count": 21,
   "metadata": {},
   "outputs": [],
   "source": [
    "def división(n1,d1,n2,d2):\n",
    "    \n",
    "    \n",
    "    razón = (n1*d2)/(n2*d1)\n",
    "    div_n = n1*d2\n",
    "    div_d = n2*d1\n",
    "    return simp(div_n, div_d) + \" = \" + str(razón)"
   ]
  },
  {
   "cell_type": "code",
   "execution_count": 22,
   "metadata": {},
   "outputs": [
    {
     "name": "stdout",
     "output_type": "stream",
     "text": [
      "5/6 = 0.8333333333333334\n"
     ]
    }
   ],
   "source": [
    "print(división(5,3,4,2))"
   ]
  }
 ],
 "metadata": {
  "kernelspec": {
   "display_name": "Python 3 (ipykernel)",
   "language": "python",
   "name": "python3"
  },
  "language_info": {
   "codemirror_mode": {
    "name": "ipython",
    "version": 3
   },
   "file_extension": ".py",
   "mimetype": "text/x-python",
   "name": "python",
   "nbconvert_exporter": "python",
   "pygments_lexer": "ipython3",
   "version": "3.9.7"
  }
 },
 "nbformat": 4,
 "nbformat_minor": 4
}
