{
 "cells": [
  {
   "cell_type": "markdown",
   "metadata": {},
   "source": [
    "# Miguel Santiago Feles Gómez - Taller Programación operaciones"
   ]
  },
  {
   "cell_type": "code",
   "execution_count": 26,
   "metadata": {},
   "outputs": [
    {
     "data": {
      "text/plain": [
       "6"
      ]
     },
     "execution_count": 26,
     "metadata": {},
     "output_type": "execute_result"
    }
   ],
   "source": [
    "''' MCD: Función que calcula el Máximo Común Divisior entre dos números x, y '''\n",
    "def MCD(x,y):\n",
    "    mcd = int\n",
    "    if x > y:\n",
    "        menor = y\n",
    "    else: \n",
    "        menor = x\n",
    "    for i in range(1, menor+1):\n",
    "        if((x%i == 0) and (y%i == 0)):\n",
    "            mcd = i\n",
    "    return mcd\n",
    "MCD(30,36)"
   ]
  },
  {
   "cell_type": "code",
   "execution_count": 28,
   "metadata": {},
   "outputs": [
    {
     "name": "stdout",
     "output_type": "stream",
     "text": [
      "8/13\n",
      "2\n"
     ]
    }
   ],
   "source": [
    "''' simp: función que simplifica una fracción hasta sus factores máximos siguiendo su MCD'''\n",
    "def simp(a,b):\n",
    "    c = MCD(a,b)\n",
    "    g = str(int(a/c))\n",
    "    h = str(int(b/c))\n",
    "    \n",
    "    if h == '1':\n",
    "        return ('{0}'.format(g))\n",
    "    \n",
    "    return ('{0}/{1}'.format(g,h))\n",
    "print(simp(16,26))\n",
    "print(simp(20,10))"
   ]
  },
  {
   "cell_type": "code",
   "execution_count": 31,
   "metadata": {},
   "outputs": [],
   "source": [
    "''' SUMA: función que realiza la suma entre dos fracciones teniendo como parametros el numerador y denominador de cada fracción'''\n",
    "def suma(n1, d1, n2, d2):\n",
    "    adición = ((n1*d2) + (d1*n2))/(d1*d2)\n",
    "    suma_n = ((n1*d2) + (d1*n2))\n",
    "    suma_d = (d1*d2)\n",
    "    return simp(suma_n, suma_d) + \" = \" + str(adición)"
   ]
  },
  {
   "cell_type": "code",
   "execution_count": 32,
   "metadata": {
    "scrolled": true
   },
   "outputs": [
    {
     "name": "stdout",
     "output_type": "stream",
     "text": [
      "11/3 = 3.6666666666666665\n"
     ]
    }
   ],
   "source": [
    "print(suma(5,3,4,2))"
   ]
  },
  {
   "cell_type": "code",
   "execution_count": 33,
   "metadata": {},
   "outputs": [],
   "source": [
    "''' RESTA: función que realiza la resta entre dos fracciones teniendo como parametros el numerador y denominador de cada fracción'''\n",
    "def resta(n1, d1, n2, d2):\n",
    "    sustracción = ((n1*d2) - (d1*n2))/(d1*d2)\n",
    "    resta_n = abs(((n1*d2) - (d1*n2)))\n",
    "    resta_d = (d1*d2)\n",
    "    \n",
    "    return simp(resta_n, resta_d) + \" = \" + str(sustracción)"
   ]
  },
  {
   "cell_type": "code",
   "execution_count": 34,
   "metadata": {},
   "outputs": [
    {
     "name": "stdout",
     "output_type": "stream",
     "text": [
      "1/2 = 0.5\n"
     ]
    }
   ],
   "source": [
    "print(resta(5,2,4,2))"
   ]
  },
  {
   "cell_type": "code",
   "execution_count": 35,
   "metadata": {},
   "outputs": [],
   "source": [
    "''' multiplicación: función que multiplica dos fracciones de manera directa, sus parametros son el numerador y denominador de cada fracción'''\n",
    "def multiplicación(n1,d1,n2,d2):\n",
    "    \n",
    "    \n",
    "    producto = (n1*n2)/(d1*d2)\n",
    "    mulp_n = (n1*n2)\n",
    "    mulp_d = (d1*d2)\n",
    "    return simp(mulp_n, mulp_d) + \" = \" + str(producto)"
   ]
  },
  {
   "cell_type": "code",
   "execution_count": 36,
   "metadata": {},
   "outputs": [
    {
     "name": "stdout",
     "output_type": "stream",
     "text": [
      "10/3 = 3.3333333333333335\n"
     ]
    }
   ],
   "source": [
    "print(multiplicación(5,3,4,2))"
   ]
  },
  {
   "cell_type": "code",
   "execution_count": 37,
   "metadata": {},
   "outputs": [],
   "source": [
    "''' división: función que divide dos fracciones, multiplicando numerador de la primera con denominador de la segunda y visceversa para luego dividir. \n",
    "Tiene como parametros el numerador y denominador de cada fracción'''\n",
    "\n",
    "def división(n1,d1,n2,d2):\n",
    "    \n",
    "    razón = (n1*d2)/(n2*d1)\n",
    "    div_n = n1*d2\n",
    "    div_d = n2*d1\n",
    "    return simp(div_n, div_d) + \" = \" + str(razón)"
   ]
  },
  {
   "cell_type": "code",
   "execution_count": 38,
   "metadata": {},
   "outputs": [
    {
     "name": "stdout",
     "output_type": "stream",
     "text": [
      "5/6 = 0.8333333333333334\n"
     ]
    }
   ],
   "source": [
    "print(división(5,3,4,2))"
   ]
  },
  {
   "cell_type": "code",
   "execution_count": null,
   "metadata": {},
   "outputs": [],
   "source": []
  }
 ],
 "metadata": {
  "kernelspec": {
   "display_name": "Python 3 (ipykernel)",
   "language": "python",
   "name": "python3"
  },
  "language_info": {
   "codemirror_mode": {
    "name": "ipython",
    "version": 3
   },
   "file_extension": ".py",
   "mimetype": "text/x-python",
   "name": "python",
   "nbconvert_exporter": "python",
   "pygments_lexer": "ipython3",
   "version": "3.9.7"
  }
 },
 "nbformat": 4,
 "nbformat_minor": 4
}
