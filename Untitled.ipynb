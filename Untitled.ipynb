{
 "cells": [
  {
   "cell_type": "markdown",
   "id": "cb3272f1",
   "metadata": {},
   "source": [
    "# Miguel Santiago Feles Gómez\n",
    "# Apuntes 19-10-2022\n",
    "\n",
    "# Programación 2"
   ]
  },
  {
   "cell_type": "markdown",
   "id": "1fc5ebf8",
   "metadata": {},
   "source": [
    "## Objetos\n",
    "\n",
    "* Una clase es una plantilla para definir nuevos tipos de datos\n",
    "* Una instancia de una clase se llama un objeto.\n",
    "* Cada objeto tiene atributos de datos.\n",
    "* Cada objeto tiene funciones atributos llamado métodos.\n"
   ]
  },
  {
   "cell_type": "code",
   "execution_count": 19,
   "id": "168b4291",
   "metadata": {},
   "outputs": [],
   "source": [
    "# Definimos un nuevo tipo de datos\n",
    "\n",
    "class Product:\n",
    "    def __init__(self, nombre, precio, info_nutr):\n",
    "        self.name = nombre\n",
    "        self.price = precio\n",
    "        self.nutricion_info = info_nutr\n",
    "        self.inventory = 0\n",
    "        \n",
    "    def increase_inventory(self, cantidad):\n",
    "        self.inventory += cantidad\n",
    "\n",
    "    def reduce_inventory(self, cantidad):\n",
    "        if (self.inventory - cantidad) <= 0:\n",
    "            self.reabastecer = True\n",
    "        self.inventory -= cantidad\n",
    "\n",
    "    def get_label(self):\n",
    "        return \"Tienda Externado\" + self.name\n",
    "\n",
    "    def get_inventory_report (self):\n",
    "        if self.inventory == 0:\n",
    "            return \"No hay producto\"\n",
    "        return f\" Hay {self.inventory} de producto\"\n",
    "\n",
    "pina = Product(\"Piña dulce\", 7.99, [\"200 calorías\", \"24g azúcar\"]) #<- Función Constructiva\n",
    "coco = Product(\"Coco Loco\", 2.43, [\"300 Cal\", \"6 gr azúcar\"])"
   ]
  },
  {
   "cell_type": "code",
   "execution_count": 20,
   "id": "bcdbd65d",
   "metadata": {},
   "outputs": [],
   "source": [
    "pina.reduce_inventory(2) # <-- Objeto que es una instancia de la clase Product."
   ]
  },
  {
   "cell_type": "code",
   "execution_count": 21,
   "id": "1f09d72b",
   "metadata": {},
   "outputs": [
    {
     "name": "stdout",
     "output_type": "stream",
     "text": [
      "True -2\n"
     ]
    }
   ],
   "source": [
    "print(pina.reabastecer, pina.inventory)"
   ]
  },
  {
   "cell_type": "code",
   "execution_count": 22,
   "id": "b36cae3f",
   "metadata": {},
   "outputs": [
    {
     "ename": "AttributeError",
     "evalue": "'Product' object has no attribute 'reabastecer'",
     "output_type": "error",
     "traceback": [
      "\u001b[1;31m---------------------------------------------------------------------------\u001b[0m",
      "\u001b[1;31mAttributeError\u001b[0m                            Traceback (most recent call last)",
      "\u001b[1;32m<ipython-input-22-293db96b5964>\u001b[0m in \u001b[0;36m<module>\u001b[1;34m\u001b[0m\n\u001b[1;32m----> 1\u001b[1;33m \u001b[0mprint\u001b[0m\u001b[1;33m(\u001b[0m\u001b[0mcoco\u001b[0m\u001b[1;33m.\u001b[0m\u001b[0mreabastecer\u001b[0m\u001b[1;33m,\u001b[0m \u001b[0mcoco\u001b[0m\u001b[1;33m.\u001b[0m\u001b[0minventory\u001b[0m\u001b[1;33m)\u001b[0m\u001b[1;33m\u001b[0m\u001b[1;33m\u001b[0m\u001b[0m\n\u001b[0m",
      "\u001b[1;31mAttributeError\u001b[0m: 'Product' object has no attribute 'reabastecer'"
     ]
    }
   ],
   "source": [
    "print(coco.reabastecer, coco.inventory)"
   ]
  },
  {
   "cell_type": "code",
   "execution_count": 25,
   "id": "3cffbe4f",
   "metadata": {},
   "outputs": [
    {
     "data": {
      "text/plain": [
       "' Hay -2 de producto'"
      ]
     },
     "execution_count": 25,
     "metadata": {},
     "output_type": "execute_result"
    }
   ],
   "source": [
    "pina.get_inventory_report()"
   ]
  },
  {
   "cell_type": "markdown",
   "id": "d82b4444",
   "metadata": {},
   "source": [
    "# - - - - - - - - - - - - - - - - - - - - - - - - - - - - - - - - - - - - - - - - - - - - - - - - - - - - - - - - - - - - - - - - - - - - - - - - - - - - - - - - - - - - - - - - - # "
   ]
  },
  {
   "cell_type": "code",
   "execution_count": 37,
   "id": "e0789b2b",
   "metadata": {},
   "outputs": [],
   "source": [
    "class Player:\n",
    "    def __init__(self, nombre):\n",
    "        self.name = nombre\n",
    "        self.health = 100\n",
    "    def damage(self, daño):\n",
    "        self.health -= daño\n",
    "    def boost(self, vida):\n",
    "        self.health += vida"
   ]
  },
  {
   "cell_type": "code",
   "execution_count": 38,
   "id": "c0c0d6b1",
   "metadata": {},
   "outputs": [],
   "source": [
    "jugador1 = Player(\"Mario\")"
   ]
  },
  {
   "cell_type": "code",
   "execution_count": 39,
   "id": "82ac12e8",
   "metadata": {},
   "outputs": [
    {
     "data": {
      "text/plain": [
       "100"
      ]
     },
     "execution_count": 39,
     "metadata": {},
     "output_type": "execute_result"
    }
   ],
   "source": [
    "jugador1.health"
   ]
  },
  {
   "cell_type": "code",
   "execution_count": 40,
   "id": "c1ac6f23",
   "metadata": {},
   "outputs": [],
   "source": [
    "jugador1.damage(30)"
   ]
  },
  {
   "cell_type": "code",
   "execution_count": 41,
   "id": "317f9428",
   "metadata": {},
   "outputs": [
    {
     "data": {
      "text/plain": [
       "70"
      ]
     },
     "execution_count": 41,
     "metadata": {},
     "output_type": "execute_result"
    }
   ],
   "source": [
    "jugador1.health"
   ]
  },
  {
   "cell_type": "code",
   "execution_count": 42,
   "id": "b9c550e4",
   "metadata": {},
   "outputs": [],
   "source": [
    "jugador1.boost(5)"
   ]
  },
  {
   "cell_type": "code",
   "execution_count": 43,
   "id": "d5b4386b",
   "metadata": {},
   "outputs": [
    {
     "data": {
      "text/plain": [
       "75"
      ]
     },
     "execution_count": 43,
     "metadata": {},
     "output_type": "execute_result"
    }
   ],
   "source": [
    "jugador1.health"
   ]
  },
  {
   "cell_type": "code",
   "execution_count": 45,
   "id": "9e6b0032",
   "metadata": {},
   "outputs": [],
   "source": [
    "class Clothing:\n",
    "    def __init__(self, category, color):\n",
    "        self.color = color\n",
    "        self.category = category\n",
    "        self.isclean = True\n",
    "        \n",
    "    def wear(self):\n",
    "        self.isclean = False\n",
    "    def clean(self):\n",
    "        self.isclean = True\n",
    "        \n",
    "        "
   ]
  },
  {
   "cell_type": "code",
   "execution_count": 46,
   "id": "83ed86c7",
   "metadata": {},
   "outputs": [],
   "source": [
    "blue_shirt = Clothing(\"Shirt\", \"Blue\")"
   ]
  },
  {
   "cell_type": "code",
   "execution_count": 47,
   "id": "b8f136b4",
   "metadata": {},
   "outputs": [
    {
     "data": {
      "text/plain": [
       "'Shirt'"
      ]
     },
     "execution_count": 47,
     "metadata": {},
     "output_type": "execute_result"
    }
   ],
   "source": [
    "blue_shirt.category"
   ]
  },
  {
   "cell_type": "code",
   "execution_count": 48,
   "id": "289ed9f0",
   "metadata": {},
   "outputs": [],
   "source": [
    "blue_shirt.wear()"
   ]
  },
  {
   "cell_type": "code",
   "execution_count": 49,
   "id": "5445e25b",
   "metadata": {},
   "outputs": [
    {
     "data": {
      "text/plain": [
       "False"
      ]
     },
     "execution_count": 49,
     "metadata": {},
     "output_type": "execute_result"
    }
   ],
   "source": [
    "blue_shirt.isclean"
   ]
  },
  {
   "cell_type": "code",
   "execution_count": 50,
   "id": "35d41d63",
   "metadata": {},
   "outputs": [],
   "source": [
    "blue_shirt.clean()"
   ]
  },
  {
   "cell_type": "code",
   "execution_count": 51,
   "id": "97bfa03c",
   "metadata": {},
   "outputs": [
    {
     "data": {
      "text/plain": [
       "True"
      ]
     },
     "execution_count": 51,
     "metadata": {},
     "output_type": "execute_result"
    }
   ],
   "source": [
    "blue_shirt.isclean"
   ]
  },
  {
   "cell_type": "code",
   "execution_count": null,
   "id": "ccc2be84",
   "metadata": {},
   "outputs": [],
   "source": []
  }
 ],
 "metadata": {
  "kernelspec": {
   "display_name": "Python 3",
   "language": "python",
   "name": "python3"
  },
  "language_info": {
   "codemirror_mode": {
    "name": "ipython",
    "version": 3
   },
   "file_extension": ".py",
   "mimetype": "text/x-python",
   "name": "python",
   "nbconvert_exporter": "python",
   "pygments_lexer": "ipython3",
   "version": "3.7.11"
  }
 },
 "nbformat": 4,
 "nbformat_minor": 5
}
